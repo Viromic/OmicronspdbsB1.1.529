{
 "cells": [
  {
   "cell_type": "markdown",
   "metadata": {},
   "source": [
    "# Using `ncbi.datasets` library to download and parse virus datasets\n",
    "\n",
    "The objective of this notebook is to use the `ncbi.datasets` python library to download and extract genome and annotation data for the coronavirus family of viruses, including SARS-CoV-2. \n",
    "\n",
    "First, let's import the python modules we'll use.  Be sure you have first installed the requirements in 'requirements.txt' into your virtual environment. "
   ]
  },
  {
   "cell_type": "code",
   "execution_count": 1,
   "metadata": {},
   "outputs": [],
   "source": [
    "import ncbi.datasets\n",
    "import json\n",
    "import jsonlines\n",
    "import os\n",
    "import csv\n",
    "import zipfile\n",
    "import pandas as pd\n",
    "from pyfaidx import Fasta\n",
    "from google.protobuf.json_format import ParseDict\n",
    "import ncbi.datasets.v1.reports.virus_pb2 as virus_report_pb2\n",
    "from collections import Counter\n",
    "from datetime import datetime, timezone, timedelta"
   ]
  },
  {
   "cell_type": "markdown",
   "metadata": {},
   "source": [
    "We will need an API object specific to retrieving viral data. To see all the possible API instances, [visit the documentation on GitHub](https://github.com/ncbi/datasets/tree/master/client_docs/python#documentation-for-api-endpoints).  \n",
    "Let's go ahead and create the API object."
   ]
  },
  {
   "cell_type": "code",
   "execution_count": 1,
   "metadata": {},
   "outputs": [],
   "source": [
    "virus_api = ncbi.datasets.VirusApi(ncbi.datasets.ApiClient())"
   ]
  },
  {
   "cell_type": "markdown",
   "metadata": {},
   "source": [
    "## The NCBI data report\n",
    "\n",
    "Viral genome data downloaded using the NCBI Datasets API uses the same file hierarchy as the other genome assembly download objects (see [Assembly Jupyter Notebook](ncbi-datasets-assembly.ipynb) to learn more). The structured zip archive contains a data report in [JSON Lines](https://jsonlines.org/) format where each line is an individual json-formatted virus data report describing a single viral genome.\n",
    "\n",
    "To illustrate how you can use these files, we will download all RefSeq genomes for the coronaviridae family and extract some genome and annotation information in tabular form. "
   ]
  },
  {
   "cell_type": "code",
   "execution_count": 1,
   "metadata": {
    "scrolled": true
   },
   "outputs": [
    {
     "name": "stdout",
     "output_type": "stream",
     "text": [
      "Download complete\n",
      "Archive:  ncbi_genomes.zip\n",
      " Length   Method    Size  Cmpr    Date    Time   CRC-32   Name\n",
      "--------  ------  ------- ---- ---------- ----- --------  ----\n",
      "     661  Defl:N      384  42% 12-04-2020 08:22 bc3c97af  README.md\n",
      " 1918659  Defl:N   665974  65% 12-04-2020 08:22 90dce184  ncbi_dataset/data/genomic.fna\n",
      "  701029  Defl:N   105102  85% 12-04-2020 08:22 11c60724  ncbi_dataset/data/data_report.jsonl\n",
      "    2398  Defl:N     1050  56% 12-04-2020 08:23 8d3e9da3  ncbi_dataset/data/virus_dataset.md\n",
      "     292  Defl:N      162  45% 12-04-2020 08:23 69d40efa  ncbi_dataset/data/dataset_catalog.json\n",
      "--------          -------  ---                            -------\n",
      " 2623039           772672  71%                            5 files\n"
     ]
    }
   ],
   "source": [
    "## download all refseq genomes for the coronaviridate family (taxid 11118)\n",
    "\n",
    "taxid = 11118\n",
    "\n",
    "viral_genomes = virus_api.virus_genome_download(\n",
    "    taxid, \n",
    "    refseq_only=True, \n",
    "    exclude_sequence=False,\n",
    "    _preload_content=False\n",
    ")\n",
    "\n",
    "zipfn = 'ncbi_genomes.zip'\n",
    "with open(zipfn, 'wb') as f:\n",
    "    f.write(viral_genomes.data)\n",
    "\n",
    "print(f'Download complete')\n",
    "!unzip -v {zipfn}"
   ]
  },
  {
   "cell_type": "markdown",
   "metadata": {},
   "source": [
    "The contents of the archive are shown above.  \n",
    "Next, we will use the `get_data_reports()` function below to extract data from the `data_report.jsonl` file and read it into the `genome_data` array.\n",
    "Then, we'll create a DataFrame (table) from the data in the array. "
   ]
  },
  {
   "cell_type": "code",
   "execution_count": 1,
   "metadata": {},
   "outputs": [
    {
     "data": {
      "text/html": [
       "<div>\n",
       "<style scoped>\n",
       "    .dataframe tbody tr th:only-of-type {\n",
       "        vertical-align: middle;\n",
       "    }\n",
       "\n",
       "    .dataframe tbody tr th {\n",
       "        vertical-align: top;\n",
       "    }\n",
       "\n",
       "    .dataframe thead th {\n",
       "        text-align: right;\n",
       "    }\n",
       "</style>\n",
       "<table border=\"1\" class=\"dataframe\">\n",
       "  <thead>\n",
       "    <tr style=\"text-align: right;\">\n",
       "      <th></th>\n",
       "      <th>Accession</th>\n",
       "      <th>TaxID</th>\n",
       "      <th>VirusName</th>\n",
       "      <th>Host</th>\n",
       "      <th>Isolate</th>\n",
       "      <th>Location</th>\n",
       "      <th>Length</th>\n",
       "      <th>Genes</th>\n",
       "      <th>Proteins</th>\n",
       "      <th>MaturePeptides</th>\n",
       "    </tr>\n",
       "  </thead>\n",
       "  <tbody>\n",
       "    <tr>\n",
       "      <th>0</th>\n",
       "      <td>NC_001451.1</td>\n",
       "      <td>11120</td>\n",
       "      <td>Infectious bronchitis virus</td>\n",
       "      <td>None</td>\n",
       "      <td>None</td>\n",
       "      <td>None</td>\n",
       "      <td>27608</td>\n",
       "      <td>6</td>\n",
       "      <td>10</td>\n",
       "      <td>14</td>\n",
       "    </tr>\n",
       "    <tr>\n",
       "      <th>1</th>\n",
       "      <td>NC_001846.1</td>\n",
       "      <td>11138</td>\n",
       "      <td>Murine hepatitis virus</td>\n",
       "      <td>None</td>\n",
       "      <td>None</td>\n",
       "      <td>None</td>\n",
       "      <td>31357</td>\n",
       "      <td>6</td>\n",
       "      <td>8</td>\n",
       "      <td>26</td>\n",
       "    </tr>\n",
       "    <tr>\n",
       "      <th>2</th>\n",
       "      <td>NC_002306.3</td>\n",
       "      <td>11135</td>\n",
       "      <td>Feline infectious peritonitis virus</td>\n",
       "      <td>None</td>\n",
       "      <td>79-1146</td>\n",
       "      <td>USA</td>\n",
       "      <td>29355</td>\n",
       "      <td>10</td>\n",
       "      <td>9</td>\n",
       "      <td>0</td>\n",
       "    </tr>\n",
       "    <tr>\n",
       "      <th>3</th>\n",
       "      <td>NC_002645.1</td>\n",
       "      <td>11137</td>\n",
       "      <td>Human coronavirus 229E</td>\n",
       "      <td>None</td>\n",
       "      <td>None</td>\n",
       "      <td>None</td>\n",
       "      <td>27317</td>\n",
       "      <td>7</td>\n",
       "      <td>8</td>\n",
       "      <td>0</td>\n",
       "    </tr>\n",
       "    <tr>\n",
       "      <th>4</th>\n",
       "      <td>NC_003436.1</td>\n",
       "      <td>28295</td>\n",
       "      <td>Porcine epidemic diarrhea virus</td>\n",
       "      <td>None</td>\n",
       "      <td>None</td>\n",
       "      <td>None</td>\n",
       "      <td>28033</td>\n",
       "      <td>6</td>\n",
       "      <td>6</td>\n",
       "      <td>13</td>\n",
       "    </tr>\n",
       "  </tbody>\n",
       "</table>\n",
       "</div>"
      ],
      "text/plain": [
       "     Accession  TaxID                            VirusName  Host  Isolate  \\\n",
       "0  NC_001451.1  11120          Infectious bronchitis virus  None     None   \n",
       "1  NC_001846.1  11138               Murine hepatitis virus  None     None   \n",
       "2  NC_002306.3  11135  Feline infectious peritonitis virus  None  79-1146   \n",
       "3  NC_002645.1  11137               Human coronavirus 229E  None     None   \n",
       "4  NC_003436.1  28295      Porcine epidemic diarrhea virus  None     None   \n",
       "\n",
       "  Location  Length  Genes  Proteins  MaturePeptides  \n",
       "0     None   27608      6        10              14  \n",
       "1     None   31357      6         8              26  \n",
       "2      USA   29355     10         9               0  \n",
       "3     None   27317      7         8               0  \n",
       "4     None   28033      6         6              13  "
      ]
     },
     "execution_count": 1,
     "metadata": {},
     "output_type": "execute_result"
    }
   ],
   "source": [
    "def get_data_reports(zip_file):\n",
    "    with zipfile.ZipFile(zip_file, 'r') as zip_download:\n",
    "        with zip_download.open('ncbi_dataset/data/data_report.jsonl') as report_file_handle:\n",
    "            with jsonlines.Reader(report_file_handle) as json_reader:\n",
    "                for g in json_reader:\n",
    "                    yield g\n",
    "   \n",
    "genome_data = []\n",
    "for g in get_data_reports(zipfn):\n",
    "    genome_data.append({\n",
    "        'Accession': g['accession'],\n",
    "        'TaxID': g['virus']['taxId'],\n",
    "        'VirusName': g['virus']['sciName'],\n",
    "        'Host': g.get('host', {}).get('sciName'),\n",
    "        'Isolate': g.get('isolate', {}).get('name'),\n",
    "        'Location': g.get('location', {}).get('geographicLocation'),\n",
    "        'Length': g.get('length', 0),\n",
    "        'Genes': g.get('geneCount', 0),\n",
    "        'Proteins': g.get('proteinCount', 0),\n",
    "        'MaturePeptides': g.get('maturePeptideCount', 0)\n",
    "    })\n",
    "\n",
    "\n",
    "df1 = pd.DataFrame(genome_data)\n",
    "df1.head()\n"
   ]
  },
  {
   "cell_type": "markdown",
   "metadata": {},
   "source": [
    "We can now generate plots using the data in the DataFrame. For example, a set of histograms showing the distribution of the length of the genomes, and the number of genes, proteins and mature peptides is shown below. "
   ]
  },
  {
   "cell_type": "code",
   "execution_count": 1,
   "metadata": {
    "scrolled": false
   },
   "outputs": [
    {
     "data": {
      "text/plain": [
       "array([[<AxesSubplot:title={'center':'Length'}>,\n",
       "        <AxesSubplot:title={'center':'Genes'}>],\n",
       "       [<AxesSubplot:title={'center':'Proteins'}>,\n",
       "        <AxesSubplot:title={'center':'MaturePeptides'}>]], dtype=object)"
      ]
     },
     "execution_count": 1,
     "metadata": {},
     "output_type": "execute_result"
    },
    {
     "data": {
      "image/png": "[encoded data removed]",
      "text/plain": [
       "<Figure size 1080x720 with 4 Axes>"
      ]
     },
     "metadata": {
      "needs_background": "light"
     },
     "output_type": "display_data"
    }
   ],
   "source": [
    "df1.hist(column=['Length', 'Genes', 'Proteins', 'MaturePeptides'], figsize=(15,10))"
   ]
  },
  {
   "cell_type": "markdown",
   "metadata": {},
   "source": [
    "Along the same lines, data can be extracted from the `data_report.jsonl` file and saved as a tab-delimited file to use in external applications like R and Excel. Also please note that JSON stores large integers (any integer that may exceed a 32 bit signed integer in size) as a string, so you will sometimes need to explicitly convert strings to integers."
   ]
  },
  {
   "cell_type": "code",
   "execution_count": 1,
   "metadata": {},
   "outputs": [
    {
     "name": "stdout",
     "output_type": "stream",
     "text": [
      "['gene_name', 'nuc_acc', 'nuc_ranges', 'prot_name', 'prot_acc', 'prot_len']\n",
      "['1ab', 'NC_001451.1', [[529, 12354], [12354, 20417]], 'ORF1ab polyprotein', 'NP_066134.1', 6629]\n"
     ]
    }
   ],
   "source": [
    "genome_table = [['gene_name', 'nuc_acc', 'nuc_ranges', 'prot_name', 'prot_acc', 'prot_len']]\n",
    "for g in get_data_reports(zipfn):\n",
    "    annot = g['annotation']\n",
    "    for gene in annot.get('genes', []):\n",
    "        for c in gene.get('cds', []):\n",
    "            ranges = []\n",
    "            for r in c['nucleotide']['range']:\n",
    "                ranges.append([int(r['begin']), int(r['end'])])\n",
    "            prot_len = int(c['protein']['range'][-1]['end'])\n",
    "            genome_table.append([gene['name'], c['nucleotide']['accessionVersion'],\n",
    "                                 ranges, c['name'], c['protein']['accessionVersion'], prot_len])\n",
    "\n",
    "tsv_file = 'virus_genome_info.tsv'\n",
    "with open(tsv_file, 'wt') as f:\n",
    "    tbl = csv.writer(f, delimiter = '\\t', lineterminator = os.linesep)\n",
    "    tbl.writerows(genome_table)\n",
    "    \n",
    "print(genome_table[0])\n",
    "print(genome_table[1])"
   ]
  },
  {
   "cell_type": "markdown",
   "metadata": {},
   "source": [
    "Finally, we can also use the data report to compute useful summaries, like the CDS length of each protein. It's convenient to view the data as a DataFrame."
   ]
  },
  {
   "cell_type": "code",
   "execution_count": 1,
   "metadata": {},
   "outputs": [],
   "source": [
    "cds_lengths = []\n",
    "for g in get_data_reports(zipfn):\n",
    "    annot = g['annotation']\n",
    "    for gene in annot.get('genes', []):\n",
    "        for c in gene.get('cds', []):\n",
    "            cds_len = 0\n",
    "            for r in c['nucleotide']['range']:\n",
    "                cds_len += int(r['end']) - int(r['begin']) + 1\n",
    "            cds_lengths.append({\n",
    "                'Accession': g['accession'],\n",
    "                'Gene': gene['name'],\n",
    "                'Protein': c['name'],\n",
    "                'CDS_Length': cds_len\n",
    "            })"
   ]
  },
  {
   "cell_type": "code",
   "execution_count": 1,
   "metadata": {},
   "outputs": [
    {
     "data": {
      "text/html": [
       "<div>\n",
       "<style scoped>\n",
       "    .dataframe tbody tr th:only-of-type {\n",
       "        vertical-align: middle;\n",
       "    }\n",
       "\n",
       "    .dataframe tbody tr th {\n",
       "        vertical-align: top;\n",
       "    }\n",
       "\n",
       "    .dataframe thead th {\n",
       "        text-align: right;\n",
       "    }\n",
       "</style>\n",
       "<table border=\"1\" class=\"dataframe\">\n",
       "  <thead>\n",
       "    <tr style=\"text-align: right;\">\n",
       "      <th></th>\n",
       "      <th>Accession</th>\n",
       "      <th>Gene</th>\n",
       "      <th>Protein</th>\n",
       "      <th>CDS_Length</th>\n",
       "    </tr>\n",
       "  </thead>\n",
       "  <tbody>\n",
       "    <tr>\n",
       "      <th>0</th>\n",
       "      <td>NC_001451.1</td>\n",
       "      <td>1ab</td>\n",
       "      <td>ORF1ab polyprotein</td>\n",
       "      <td>19890</td>\n",
       "    </tr>\n",
       "    <tr>\n",
       "      <th>1</th>\n",
       "      <td>NC_001451.1</td>\n",
       "      <td>1ab</td>\n",
       "      <td>ORF1a polyprotein</td>\n",
       "      <td>11856</td>\n",
       "    </tr>\n",
       "    <tr>\n",
       "      <th>2</th>\n",
       "      <td>NC_001451.1</td>\n",
       "      <td>2</td>\n",
       "      <td>spike protein</td>\n",
       "      <td>3489</td>\n",
       "    </tr>\n",
       "    <tr>\n",
       "      <th>3</th>\n",
       "      <td>NC_001451.1</td>\n",
       "      <td>3</td>\n",
       "      <td>3a protein</td>\n",
       "      <td>174</td>\n",
       "    </tr>\n",
       "    <tr>\n",
       "      <th>4</th>\n",
       "      <td>NC_001451.1</td>\n",
       "      <td>3</td>\n",
       "      <td>3b protein</td>\n",
       "      <td>195</td>\n",
       "    </tr>\n",
       "  </tbody>\n",
       "</table>\n",
       "</div>"
      ],
      "text/plain": [
       "     Accession Gene             Protein  CDS_Length\n",
       "0  NC_001451.1  1ab  ORF1ab polyprotein       19890\n",
       "1  NC_001451.1  1ab   ORF1a polyprotein       11856\n",
       "2  NC_001451.1    2       spike protein        3489\n",
       "3  NC_001451.1    3          3a protein         174\n",
       "4  NC_001451.1    3          3b protein         195"
      ]
     },
     "execution_count": 1,
     "metadata": {},
     "output_type": "execute_result"
    }
   ],
   "source": [
    "df2 = pd.DataFrame(cds_lengths)\n",
    "df2.head()"
   ]
  },
  {
   "cell_type": "markdown",
   "metadata": {},
   "source": [
    "## Add taxid to the FASTA header\n",
    "\n",
    "In addition to the data report, the virus archive contains one or more sequence files that can be processed together. For example, we can add a different set of attributes to the FASTA header in the sequence files. For this, we will first create a map of genomic accessions to taxids and virus names using the data in `data_report.jsonl` file. Then, we will use the `pyfaidx` python module to change the headers in `genomic.fna` FASTA file to include taxids."
   ]
  },
  {
   "cell_type": "code",
   "execution_count": 1,
   "metadata": {},
   "outputs": [],
   "source": [
    "taxids_by_accession = dict()\n",
    "\n",
    "for genome in get_data_reports(zipfn):\n",
    "    taxids_by_accession[genome['accession']] = (genome['virus']['taxId'], genome['virus']['sciName'])"
   ]
  },
  {
   "cell_type": "code",
   "execution_count": 1,
   "metadata": {},
   "outputs": [],
   "source": [
    "## parse data catalog \n",
    "with zipfile.ZipFile(zipfn, 'r') as zip:\n",
    "    data_catalog = json.loads(zip.read('ncbi_dataset/data/dataset_catalog.json'))"
   ]
  },
  {
   "cell_type": "code",
   "execution_count": 1,
   "metadata": {},
   "outputs": [],
   "source": [
    "with zipfile.ZipFile(zipfn, 'r') as zip:\n",
    "    data = zip.read('ncbi_dataset/data/genomic.fna')\n",
    "    with open('genomic.fna', 'wb') as f:\n",
    "        f.write(data)\n",
    "\n",
    "with open('genomic.out.fna', 'w') as f:\n",
    "    genomic_seqs = Fasta('genomic.fna')\n",
    "    for g in genomic_seqs:\n",
    "        (taxid, org_name) = taxids_by_accession[g.name]\n",
    "        header = '>' + '|'.join([g.name, str(taxid), org_name, '\\n'])\n",
    "        f.write(header)\n",
    "        f.write(genomic_seqs[g.name][:].seq + '\\n')"
   ]
  },
  {
   "cell_type": "markdown",
   "metadata": {},
   "source": [
    "## Fetch all SARS-CoV-2 genomes submitted in the past 7 days\n",
    "\n",
    "Narrowing our focus a little, if we are interested in just SARS-CoV-2 genomes they too can be downloaded using the `ncbi.datasets` library as shown below. Here, for example, we will restrict the data returned to only those genomes that were submitted in the past 7 days. \n",
    "\n",
    "A python datetime object is created with the desired date and provided to the api instance. "
   ]
  },
  {
   "cell_type": "code",
   "execution_count": 1,
   "metadata": {},
   "outputs": [
    {
     "name": "stdout",
     "output_type": "stream",
     "text": [
      "Download genomes release since: 2020-11-27 13:25:25.784012+00:00\n",
      "Start downloading ...\n",
      "Finished.\n",
      "Archive:  ncbi_genomes.zip\n",
      " Length   Method    Size  Cmpr    Date    Time   CRC-32   Name\n",
      "--------  ------  ------- ---- ---------- ----- --------  ----\n",
      "     661  Defl:N      384  42% 12-04-2020 08:25 bc3c97af  README.md\n",
      "35461727  Defl:N 12014763  66% 12-04-2020 08:25 f57a7afd  ncbi_dataset/data/genomic.fna\n",
      "33510533  Defl:N  3037218  91% 12-04-2020 08:25 7612390e  ncbi_dataset/data/data_report.jsonl\n",
      "    2398  Defl:N     1050  56% 12-04-2020 08:25 8d3e9da3  ncbi_dataset/data/virus_dataset.md\n",
      " 2088828  Defl:N   586156  72% 12-04-2020 08:25 ad7faaf4  ncbi_dataset/data/pdb/6VYB.pdb\n",
      "  758727  Defl:N   236717  69% 12-04-2020 08:25 d68f7342  ncbi_dataset/data/pdb/6VYO.pdb\n",
      "   66582  Defl:N    19013  71% 12-04-2020 08:25 daa19637  ncbi_dataset/data/pdb/6W37.pdb\n",
      "  675378  Defl:N   209771  69% 12-04-2020 08:25 5fd9e206  ncbi_dataset/data/pdb/6W4H.pdb\n",
      " 1250964  Defl:N   397566  68% 12-04-2020 08:25 6bb96f3a  ncbi_dataset/data/pdb/6W9C.pdb\n",
      "  182574  Defl:N    58153  68% 12-04-2020 08:25 fd535fa9  ncbi_dataset/data/pdb/6W9Q.pdb\n",
      "  436995  Defl:N   134343  69% 12-04-2020 08:25 d2ecc767  ncbi_dataset/data/pdb/6WEY.pdb\n",
      "  983583  Defl:N   274660  72% 12-04-2020 08:25 37d4d1a8  ncbi_dataset/data/pdb/6WJI.pdb\n",
      " 1054296  Defl:N   331126  69% 12-04-2020 08:25 759f29dc  ncbi_dataset/data/pdb/6WLC.pdb\n",
      "  448173  Defl:N   143845  68% 12-04-2020 08:25 fe9086ec  ncbi_dataset/data/pdb/7BQY.pdb\n",
      "  773145  Defl:N   206610  73% 12-04-2020 08:25 9cac5780  ncbi_dataset/data/pdb/7BV2.pdb\n",
      "    1128  Defl:N      232  79% 12-04-2020 08:25 5593dc30  ncbi_dataset/data/dataset_catalog.json\n",
      "--------          -------  ---                            -------\n",
      "77695692         17651607  77%                            16 files\n"
     ]
    }
   ],
   "source": [
    "## to fetch all genomes submitted in the past 7 days\n",
    "t = 7\n",
    "d = datetime.now(timezone.utc) - timedelta(days=t)\n",
    "taxid = 2697049\n",
    "\n",
    "print(f'Download genomes release since: {d}')\n",
    "cov2_genomes = virus_api.virus_genome_download(\n",
    "    taxid, \n",
    "    released_since = d.isoformat(),\n",
    "    include_annotation_type=['PDB_FILES'],\n",
    "    _preload_content=False)\n",
    "\n",
    "print('Start downloading ...')\n",
    "zipfn = 'ncbi_genomes.zip'\n",
    "with open(zipfn, 'wb') as f:\n",
    "    f.write(cov2_genomes.data)\n",
    "print('Finished.')\n",
    "!unzip -v {zipfn}"
   ]
  },
  {
   "cell_type": "markdown",
   "metadata": {},
   "source": [
    "Now, we can use the information in the data report to tabulate information such as the number of genomes by collection date and georaphic location. First we'll take a look at how many genomes were collected in each month."
   ]
  },
  {
   "cell_type": "code",
   "execution_count": 1,
   "metadata": {
    "scrolled": true
   },
   "outputs": [
    {
     "name": "stdout",
     "output_type": "stream",
     "text": [
      "Collections by month:  Counter({'2021/06': 14897, '2021/07': 11853, '2021/05': 1035, '2021/01': 825, '2021/02': 605, '2020': 548, '2021/04': 370, '2020/12': 202, '2021/03': 198, '2020/03': 130, '2020/11': 50, '2020/10': 21, '2020/04': 6, '2020/09': 6, '2020/06': 5, '2020/08': 2})\n",
      "First 5 Genbank accessions with their SRA accessions:\n",
      " [('MZ574958.1', ['SRR15108858']), ('MZ574955.1', ['SRR15108850']), ('MZ574952.1', ['SRR15108853']), ('MZ574946.1', ['SRR15108864']), ('MZ574957.1', ['SRR15108859'])]\n",
      "% of genomes with SRA data: 87\n"
     ]
    }
   ],
   "source": [
    "# Warning: This step can take several minutes to execute, depending on the size of the request.  \n",
    "#          You may want to shorten the time window to less than 7 days.\n",
    "\n",
    "coll_by_month = Counter()\n",
    "genomes_with_sra_data = 0\n",
    "total_genomes = 0\n",
    "sra_accessions = []\n",
    "geo_by_date = []\n",
    "for g in get_data_reports(zipfn):\n",
    "    total_genomes += 1\n",
    "    if g.get('sraAccessions'):\n",
    "        sra_accessions.append((g['accession'], g.get('sraAccessions')))\n",
    "        genomes_with_sra_data += 1\n",
    "    coll_date = g.get('isolate', {}).get('collectionDate')\n",
    "    if coll_date:\n",
    "        coll_date = '/'.join(coll_date.split('-')[:2])\n",
    "        coll_by_month[coll_date] += 1\n",
    "        geo_by_date.append({\n",
    "            'Date': g['isolate']['collectionDate'],\n",
    "            'Location': g.get('location', {}).get('geographicLocation', '').split(':')[0]\n",
    "        })\n",
    "print('Collections by month: ', coll_by_month)\n",
    "print('First 5 Genbank accessions with their SRA accessions:\\n', sra_accessions[:5])\n",
    "print('% of genomes with SRA data:', round(genomes_with_sra_data/total_genomes * 100))"
   ]
  },
  {
   "cell_type": "markdown",
   "metadata": {},
   "source": [
    "Now, we'll plot a histogram of genomes by collection month."
   ]
  },
  {
   "cell_type": "code",
   "execution_count": 1,
   "metadata": {},
   "outputs": [
    {
     "data": {
      "text/plain": [
       "<AxesSubplot:>"
      ]
     },
     "execution_count": 1,
     "metadata": {},
     "output_type": "execute_result"
    },
    {
     "data": {
      "image/png": "[encoded data removed]",
      "text/plain": [
       "<Figure size 648x432 with 1 Axes>"
      ]
     },
     "metadata": {
      "needs_background": "light"
     },
     "output_type": "display_data"
    }
   ],
   "source": [
    "df = pd.DataFrame.from_dict(coll_by_month, orient='index', columns=['count']).sort_index()\n",
    "df.plot(kind = 'barh', y='count', figsize=(9,6))"
   ]
  },
  {
   "cell_type": "markdown",
   "metadata": {},
   "source": [
    "Next, we'll generate a DataFrame showing the geographic locations where these genomes were found. We'll use head to take a look at the first five rows in the DataFrame."
   ]
  },
  {
   "cell_type": "code",
   "execution_count": 1,
   "metadata": {},
   "outputs": [
    {
     "data": {
      "text/html": [
       "<div>\n",
       "<style scoped>\n",
       "    .dataframe tbody tr th:only-of-type {\n",
       "        vertical-align: middle;\n",
       "    }\n",
       "\n",
       "    .dataframe tbody tr th {\n",
       "        vertical-align: top;\n",
       "    }\n",
       "\n",
       "    .dataframe thead th {\n",
       "        text-align: right;\n",
       "    }\n",
       "</style>\n",
       "<table border=\"1\" class=\"dataframe\">\n",
       "  <thead>\n",
       "    <tr style=\"text-align: right;\">\n",
       "      <th></th>\n",
       "      <th>Date</th>\n",
       "      <th>Location</th>\n",
       "    </tr>\n",
       "  </thead>\n",
       "  <tbody>\n",
       "    <tr>\n",
       "      <th>0</th>\n",
       "      <td>2020-11-07</td>\n",
       "      <td>West Bank</td>\n",
       "    </tr>\n",
       "    <tr>\n",
       "      <th>1</th>\n",
       "      <td>2020-03-10</td>\n",
       "      <td>China</td>\n",
       "    </tr>\n",
       "    <tr>\n",
       "      <th>2</th>\n",
       "      <td>2020-04-13</td>\n",
       "      <td>Russia</td>\n",
       "    </tr>\n",
       "    <tr>\n",
       "      <th>3</th>\n",
       "      <td>2020-09-01</td>\n",
       "      <td>Russia</td>\n",
       "    </tr>\n",
       "    <tr>\n",
       "      <th>4</th>\n",
       "      <td>2020-04-13</td>\n",
       "      <td>Russia</td>\n",
       "    </tr>\n",
       "  </tbody>\n",
       "</table>\n",
       "</div>"
      ],
      "text/plain": [
       "         Date   Location\n",
       "0  2020-11-07  West Bank\n",
       "1  2020-03-10      China\n",
       "2  2020-04-13     Russia\n",
       "3  2020-09-01     Russia\n",
       "4  2020-04-13     Russia"
      ]
     },
     "execution_count": 1,
     "metadata": {},
     "output_type": "execute_result"
    }
   ],
   "source": [
    "df3 = pd.DataFrame(geo_by_date)\n",
    "df3.head()"
   ]
  },
  {
   "cell_type": "markdown",
   "metadata": {},
   "source": [
    "Finally, we'll plot a histogram of the data in the DataFrame, showing genome counts by geographic location."
   ]
  },
  {
   "cell_type": "code",
   "execution_count": 1,
   "metadata": {},
   "outputs": [
    {
     "data": {
      "text/plain": [
       "<AxesSubplot:>"
      ]
     },
     "execution_count": 1,
     "metadata": {},
     "output_type": "execute_result"
    },
    {
     "data": {
      "image/png": "[encoded data removed]",
      "text/plain": [
       "<Figure size 648x432 with 1 Axes>"
      ]
     },
     "metadata": {
      "needs_background": "light"
     },
     "output_type": "display_data"
    }
   ],
   "source": [
    "pd.value_counts(df3['Location']).plot.barh(figsize=(9,6))"
   ]
  }
 ],
 "metadata": {
  "kernelspec": {
   "display_name": "Python 3",
   "language": "python",
   "name": "python3"
  },
  "language_info": {
   "codemirror_mode": {
    "name": "ipython",
    "version": 3
   },
   "file_extension": ".py",
   "mimetype": "text/x-python",
   "name": "python",
   "nbconvert_exporter": "python",
   "pygments_lexer": "ipython3",
   "version": "3.9.4"
  }
 },
 "nbformat": 4,
 "nbformat_minor": 4
}
